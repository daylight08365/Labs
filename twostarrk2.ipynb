{
 "cells": [
  {
   "cell_type": "markdown",
   "id": "5a910796",
   "metadata": {},
   "source": [
    "## Binary System Method with 2nd Runge-Kutta Method"
   ]
  },
  {
   "cell_type": "code",
   "execution_count": null,
   "id": "b3adca0e",
   "metadata": {},
   "outputs": [],
   "source": [
    "# import the packages\n",
    "import numpy as np\n",
    "import matplotlib.pyplot as plt"
   ]
  },
  {
   "cell_type": "code",
   "execution_count": null,
   "id": "455fa411",
   "metadata": {},
   "outputs": [],
   "source": [
    "# the constants\n",
    "\n",
    "G = 4*(np.pi**2) # gravitational constant units: AU^3/yr^2\n",
    "M = 1 # solar mass ... makes equations easier\n",
    "R = 1 # AU for circular orbits"
   ]
  },
  {
   "cell_type": "code",
   "execution_count": null,
   "id": "7c0647ad",
   "metadata": {},
   "outputs": [],
   "source": [
    "# initialising variables / initial conditions\n",
    "\n",
    "# initial position = x0 and y0 (in AU)\n",
    "# initial velocity = v_x and v_y (in AU/yr)\n",
    "\n",
    "# initial position\n",
    "x0 = 1\n",
    "y0 = 0\n",
    "\n",
    "# initial velocity\n",
    "v_x = 0\n",
    "v_y = 4"
   ]
  },
  {
   "cell_type": "code",
   "execution_count": null,
   "id": "b535f40c",
   "metadata": {},
   "outputs": [],
   "source": [
    "# Using Kepler's Third Law, the equation of a period of a circular orbit is\n",
    "\n",
    "T = np.sqrt(((4*(np.pi**2))/G*M)*R**3)\n",
    "\n",
    "# the time step - small iteration for the loop to show the approximate motion at that time for that x amount of time\n",
    "\n",
    "dt = 0.0015\n",
    "step = int(T/dt)    # how many years iteration\n",
    "\n",
    "# to store the trajectories, use arrays\n",
    "xvalues = [x0]\n",
    "yvalues = [y0]\n",
    "\n",
    "# initialise the variables so that it uses after the ones stored in the array\n",
    "x = x0\n",
    "y = y0\n",
    "\n",
    "# to be used when the volecity is getting updated\n",
    "vx = v_x\n",
    "vy = v_y"
   ]
  },
  {
   "cell_type": "code",
   "execution_count": null,
   "id": "d794552c",
   "metadata": {},
   "outputs": [],
   "source": [
    "# for using the 2nd Runge Kutta method\n",
    "\n",
    "# position of the two stars\n",
    "star1 = np.array([-0.2, 0])\n",
    "star2 = np.array([0.2, 0])\n",
    "\n",
    "# the derivatives\n",
    "def derivatives(x, y, vx, vy):\n",
    "    # get the acceleration of the bodies\n",
    "    def acceleration (x, y):\n",
    "        # from star 1\n",
    "        dx1 = x - star1[0]\n",
    "        dy1 = y - star1[1]\n",
    "        r1 = np.sqrt(dx1**2 + dy1**2) # distance from star 1 circular orbit and modulus\n",
    "        ax1 = -(G*M*dx1)/(r1**3) # acceleration in the x direction\n",
    "        ay1 = -(G*M*dy1)/(r1**3) # acceleration in the y direction\n",
    "\n",
    "        # from star 2\n",
    "        dx2 = x - star2[0]\n",
    "        dy2 = y - star2[1]\n",
    "        r2 = np.sqrt(dx2**2 + dy2**2) # distance from star 1 circular orbit and modulus\n",
    "        ax2 = -(G*M*dx2)/(r2**3) # acceleration in the x direction\n",
    "        ay2 = -(G*M*dy2)/(r2**3) # acceleration in the y direction\n",
    "\n",
    "        return ax1+ax2, ay1+ay2\n",
    "    a\n",
    "\n",
    "# the loop\n",
    "for i in range(step):\n",
    "    k1_x, k1_y, k1_vx, k1_vy = derivatives(x, y, vx, vy) # obtaining the slopes of the functions\n",
    "\n",
    "    # midpoint calculations\n",
    "    x_mid = x + (0.5*dt*k1_x)\n",
    "    y_mid = y + (0.5*dt*k1_y)\n",
    "    vx_mid = vx + (0.5*dt*k1_vx)\n",
    "    vy_mid = vy + (0.5*dt*k1_vy)\n",
    "\n",
    "    # slope at midpoint (RK2)\n",
    "    k2_x, k2_y, k2_vx, k2_vy = derivatives(x_mid, y_mid, vx_mid, vy_mid) # obtaining the slopes of the midpoints\n",
    "\n",
    "    # updating the solution\n",
    "    x = x + (dt*k2_x)\n",
    "    y = y + (dt*k2_y)\n",
    "    vx = vx + (dt*k2_vx)\n",
    "    vy = vy + (dt*k2_vy)"
   ]
  }
 ],
 "metadata": {
  "language_info": {
   "name": "python"
  }
 },
 "nbformat": 4,
 "nbformat_minor": 5
}
